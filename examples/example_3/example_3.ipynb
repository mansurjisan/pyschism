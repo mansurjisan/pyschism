{
 "cells": [
  {
   "cell_type": "markdown",
   "id": "human-coral",
   "metadata": {},
   "source": [
    "# Generating Mannings N coefficient fields."
   ]
  },
  {
   "cell_type": "markdown",
   "id": "american-optimum",
   "metadata": {},
   "source": [
    "Load an hgrid:"
   ]
  },
  {
   "cell_type": "code",
   "execution_count": 2,
   "id": "interpreted-outline",
   "metadata": {},
   "outputs": [
    {
     "ename": "FileNotFoundError",
     "evalue": "[Errno 2] No such file or directory: 'prusvi.2dm_b120.grd'",
     "output_type": "error",
     "traceback": [
      "\u001b[0;31m---------------------------------------------------------------------------\u001b[0m",
      "\u001b[0;31mFileNotFoundError\u001b[0m                         Traceback (most recent call last)",
      "\u001b[0;32m<ipython-input-2-1ce983e5f131>\u001b[0m in \u001b[0;36m<module>\u001b[0;34m\u001b[0m\n\u001b[1;32m      1\u001b[0m \u001b[0;32mfrom\u001b[0m \u001b[0mpyschism\u001b[0m\u001b[0;34m.\u001b[0m\u001b[0mmesh\u001b[0m \u001b[0;32mimport\u001b[0m \u001b[0mHgrid\u001b[0m\u001b[0;34m\u001b[0m\u001b[0;34m\u001b[0m\u001b[0m\n\u001b[0;32m----> 2\u001b[0;31m \u001b[0mhgrid\u001b[0m \u001b[0;34m=\u001b[0m \u001b[0mHgrid\u001b[0m\u001b[0;34m.\u001b[0m\u001b[0mopen\u001b[0m\u001b[0;34m(\u001b[0m\u001b[0;34m'prusvi.2dm_b120.grd'\u001b[0m\u001b[0;34m)\u001b[0m\u001b[0;34m\u001b[0m\u001b[0;34m\u001b[0m\u001b[0m\n\u001b[0m",
      "\u001b[0;32m~/pyschism/pyschism/mesh/hgrid.py\u001b[0m in \u001b[0;36mopen\u001b[0;34m(path, crs)\u001b[0m\n\u001b[1;32m    139\u001b[0m         \u001b[0;32mif\u001b[0m \u001b[0mstr\u001b[0m\u001b[0;34m(\u001b[0m\u001b[0mpath\u001b[0m\u001b[0;34m)\u001b[0m\u001b[0;34m.\u001b[0m\u001b[0mendswith\u001b[0m\u001b[0;34m(\u001b[0m\u001b[0;34m'.ll'\u001b[0m\u001b[0;34m)\u001b[0m \u001b[0;32mand\u001b[0m \u001b[0mcrs\u001b[0m \u001b[0;32mis\u001b[0m \u001b[0;32mNone\u001b[0m\u001b[0;34m:\u001b[0m\u001b[0;34m\u001b[0m\u001b[0;34m\u001b[0m\u001b[0m\n\u001b[1;32m    140\u001b[0m             \u001b[0mcrs\u001b[0m \u001b[0;34m=\u001b[0m \u001b[0;34m'epsg:4326'\u001b[0m\u001b[0;34m\u001b[0m\u001b[0;34m\u001b[0m\u001b[0m\n\u001b[0;32m--> 141\u001b[0;31m         \u001b[0m_grd\u001b[0m \u001b[0;34m=\u001b[0m \u001b[0mgrd\u001b[0m\u001b[0;34m.\u001b[0m\u001b[0mread\u001b[0m\u001b[0;34m(\u001b[0m\u001b[0mpath\u001b[0m\u001b[0;34m,\u001b[0m \u001b[0mcrs\u001b[0m\u001b[0;34m=\u001b[0m\u001b[0mcrs\u001b[0m\u001b[0;34m)\u001b[0m\u001b[0;34m\u001b[0m\u001b[0;34m\u001b[0m\u001b[0m\n\u001b[0m\u001b[1;32m    142\u001b[0m         _grd['nodes'] = {id: (coords, -val) for id, (coords, val)\n\u001b[1;32m    143\u001b[0m                          in _grd['nodes'].items()}\n",
      "\u001b[0;32m~/pyschism/pyschism/mesh/parsers/grd.py\u001b[0m in \u001b[0;36mread\u001b[0;34m(resource, boundaries, crs)\u001b[0m\n\u001b[1;32m    175\u001b[0m     \"\"\"\n\u001b[1;32m    176\u001b[0m     \u001b[0mresource\u001b[0m \u001b[0;34m=\u001b[0m \u001b[0mpathlib\u001b[0m\u001b[0;34m.\u001b[0m\u001b[0mPath\u001b[0m\u001b[0;34m(\u001b[0m\u001b[0mresource\u001b[0m\u001b[0;34m)\u001b[0m\u001b[0;34m\u001b[0m\u001b[0;34m\u001b[0m\u001b[0m\n\u001b[0;32m--> 177\u001b[0;31m     \u001b[0;32mwith\u001b[0m \u001b[0mopen\u001b[0m\u001b[0;34m(\u001b[0m\u001b[0mresource\u001b[0m\u001b[0;34m,\u001b[0m \u001b[0;34m'r'\u001b[0m\u001b[0;34m)\u001b[0m \u001b[0;32mas\u001b[0m \u001b[0mstream\u001b[0m\u001b[0;34m:\u001b[0m\u001b[0;34m\u001b[0m\u001b[0;34m\u001b[0m\u001b[0m\n\u001b[0m\u001b[1;32m    178\u001b[0m         \u001b[0mgrd\u001b[0m \u001b[0;34m=\u001b[0m \u001b[0mbuffer_to_dict\u001b[0m\u001b[0;34m(\u001b[0m\u001b[0mstream\u001b[0m\u001b[0;34m)\u001b[0m\u001b[0;34m\u001b[0m\u001b[0;34m\u001b[0m\u001b[0m\n\u001b[1;32m    179\u001b[0m     \u001b[0;32mif\u001b[0m \u001b[0mboundaries\u001b[0m \u001b[0;32mis\u001b[0m \u001b[0;32mFalse\u001b[0m\u001b[0;34m:\u001b[0m\u001b[0;34m\u001b[0m\u001b[0;34m\u001b[0m\u001b[0m\n",
      "\u001b[0;31mFileNotFoundError\u001b[0m: [Errno 2] No such file or directory: 'prusvi.2dm_b120.grd'"
     ]
    }
   ],
   "source": [
    "from pyschism.mesh import Hgrid\n",
    "hgrid = Hgrid.open('prusvi.2dm_b120.grd')"
   ]
  },
  {
   "cell_type": "code",
   "execution_count": null,
   "id": "satellite-aviation",
   "metadata": {},
   "outputs": [],
   "source": [
    "hgrid.make_plot()"
   ]
  },
  {
   "cell_type": "markdown",
   "id": "demonstrated-walker",
   "metadata": {},
   "source": [
    "Use the `linear_with_depth` constructor of the `ManningsN` class."
   ]
  },
  {
   "cell_type": "code",
   "execution_count": null,
   "id": "opposed-horizon",
   "metadata": {},
   "outputs": [],
   "source": [
    "from pyschism.mesh.fgrid import ManningsN\n",
    "mannings = ManningsN.linear_with_depth(hgrid)"
   ]
  },
  {
   "cell_type": "code",
   "execution_count": null,
   "id": "amino-communications",
   "metadata": {},
   "outputs": [],
   "source": [
    "ax = plt.subplot()\n",
    "mannings.triplot(axes=ax, color='g')\n",
    "mannings.tricontourf(axes=ax)\n",
    "ax.axis('scaled')\n",
    "plt.colorbar()"
   ]
  },
  {
   "cell_type": "code",
   "execution_count": null,
   "id": "irish-harrison",
   "metadata": {},
   "outputs": [],
   "source": [
    "print(np.min(mng.values.ravel()), np.max(mng.values.ravel()))\n",
    "mannings.write('manning.gr3', overwrite=True)"
   ]
  }
 ],
 "metadata": {
  "kernelspec": {
   "display_name": "Python 3",
   "language": "python",
   "name": "python3"
  },
  "language_info": {
   "codemirror_mode": {
    "name": "ipython",
    "version": 3
   },
   "file_extension": ".py",
   "mimetype": "text/x-python",
   "name": "python",
   "nbconvert_exporter": "python",
   "pygments_lexer": "ipython3",
   "version": "3.8.7"
  }
 },
 "nbformat": 4,
 "nbformat_minor": 5
}
